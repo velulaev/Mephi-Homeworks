{
 "cells": [
  {
   "cell_type": "markdown",
   "metadata": {
    "id": "DQQFfNTLJ20S"
   },
   "source": [
    "# Задание 1"
   ]
  },
  {
   "cell_type": "code",
   "execution_count": 31,
   "metadata": {
    "id": "XqAzbM6WJyE2"
   },
   "outputs": [
    {
     "name": "stdout",
     "output_type": "stream",
     "text": [
      "(AxB)xC\n"
     ]
    }
   ],
   "source": [
    "#ваш код\n",
    "\n",
    "import numpy as np\n",
    "\n",
    "def multiplication_order(A, B, C):\n",
    "    # Размеры матриц\n",
    "    rows_A, cols_A = A.shape\n",
    "    rows_B, cols_B = B.shape\n",
    "    rows_C, cols_C = C.shape\n",
    "\n",
    "    # Подсчёт операций для (AxB)xC\n",
    "    ops_ABC = rows_A * cols_A * cols_B + rows_A * cols_B * cols_C\n",
    "\n",
    "    # Подсчёт операций для Ax(BxC)\n",
    "    ops_A_BC = rows_B * cols_B * cols_C + rows_A * rows_B * cols_C\n",
    "\n",
    "    # Сравнение количества операций\n",
    "    if ops_ABC <= ops_A_BC:\n",
    "        return '(AxB)xC'\n",
    "    else:\n",
    "        return 'Ax(BxC)'\n",
    "\n",
    "# Пример использования\n",
    "A = np.array([[1, 2]])\n",
    "B = np.array([[2], [1]])\n",
    "C = np.array([[5]])\n",
    "\n",
    "print(multiplication_order(A, B, C))\n"
   ]
  },
  {
   "cell_type": "markdown",
   "metadata": {
    "id": "vQvUEt_KKShX"
   },
   "source": [
    "# Задание 2\n"
   ]
  },
  {
   "cell_type": "code",
   "execution_count": 35,
   "metadata": {
    "id": "TMJq9ob2KYBY"
   },
   "outputs": [
    {
     "name": "stdout",
     "output_type": "stream",
     "text": [
      "(3, 2)\n"
     ]
    }
   ],
   "source": [
    "#ваш код\n",
    "\n",
    "def best_worst(X, y):\n",
    "    # Вычисляем корреляцию для каждого признака\n",
    "    correlations = np.array([np.corrcoef(X[:, i], y)[0, 1] for i in range(X.shape[1])])\n",
    "    \n",
    "    # Находим индексы признаков с максимальной и минимальной корреляцией по абс. знач.\n",
    "    max_corr_idx = np.argmax(np.abs(correlations))\n",
    "    min_corr_idx = np.argmin(np.abs(correlations))\n",
    "    \n",
    "    # Преобразуем индексы и возвращаем результат\n",
    "    return int(max_corr_idx), int(min_corr_idx)\n",
    "\n",
    "X = np.array([[3, 51, 3, 0, 1, 0],\n",
    "              [1, 30, 1, 0, 1, 0],\n",
    "              [2, 45, 2, 0, 1, 0],\n",
    "              [3, 55, 1, 0, 1, 0],\n",
    "              [1, 45, 3, 1, 0, 0],\n",
    "              [3, 100, 3, 1, 0, 0],\n",
    "              [2, 71, 2, 1, 0, 0],\n",
    "              [1, 31, 2, 0, 0, 1],\n",
    "              [3, 53, 5, 0, 0, 1],\n",
    "              [1, 33, 3, 0, 0, 1],\n",
    "              [2, 43, 5, 0, 0, 1]])\n",
    "y = np.array([2200, 1600, 1900, 2000, 4500, 7000, 5000, 1700, 2100, 1500, 2000])\n",
    "\n",
    "print(best_worst(X, y))\n"
   ]
  },
  {
   "cell_type": "markdown",
   "metadata": {
    "id": "hindpJMCKhB8"
   },
   "source": [
    "# Задание 3\n"
   ]
  },
  {
   "cell_type": "code",
   "execution_count": 36,
   "metadata": {
    "id": "-YLajcsEKkuQ"
   },
   "outputs": [
    {
     "name": "stdout",
     "output_type": "stream",
     "text": [
      "5\n"
     ]
    }
   ],
   "source": [
    "#ваш код\n",
    "\n",
    "def corr_rank(X):\n",
    "    # Вычисляем корреляционную матрицу\n",
    "    corr_matrix = np.corrcoef(X, rowvar=False)\n",
    "    \n",
    "    # Находим ранг матрицы\n",
    "    rank = np.linalg.matrix_rank(corr_matrix)\n",
    "    \n",
    "    return rank\n",
    "\n",
    "print(corr_rank(X))"
   ]
  },
  {
   "cell_type": "markdown",
   "metadata": {
    "id": "tKweU9DCKk-f"
   },
   "source": [
    "# Задание 4"
   ]
  },
  {
   "cell_type": "code",
   "execution_count": 37,
   "metadata": {
    "id": "pi2fjbkjKmzi"
   },
   "outputs": [
    {
     "name": "stdout",
     "output_type": "stream",
     "text": [
      "[[-0.33333333  0.66666667]\n",
      " [ 0.66666667 -0.33333333]]\n"
     ]
    }
   ],
   "source": [
    "#ваш код\n",
    "\n",
    "def inverse_matrix(A):\n",
    "    # Проверяем, обратима ли матрица\n",
    "    det = np.linalg.det(A)\n",
    "    if abs(det) < 0.0000001:  # Сравниваем с очень маленьким числом для учета численных ошибок\n",
    "        return None\n",
    "    # Если определитель не равен 0, возвращаем обратную матрицу\n",
    "    return np.linalg.inv(A)\n",
    "\n",
    "A = np.array([[1, 2], [2, 1]])\n",
    "print(inverse_matrix(A))"
   ]
  },
  {
   "cell_type": "markdown",
   "metadata": {
    "id": "pnIqMUVsKnTq"
   },
   "source": [
    "# Задание 5"
   ]
  },
  {
   "cell_type": "code",
   "execution_count": 38,
   "metadata": {
    "id": "g34wFIBuKpmL"
   },
   "outputs": [
    {
     "name": "stdout",
     "output_type": "stream",
     "text": [
      "[-574.12295766   65.33255763  141.80223878 1566.16246224   12.32450391\n",
      " -315.34552489]\n"
     ]
    }
   ],
   "source": [
    "#ваш код\n",
    "\n",
    "def fit_model(X, y):\n",
    "    return inverse_matrix(X.T @ X) @ X.T @ y\n",
    "\n",
    "print(fit_model(X,y))\n"
   ]
  }
 ],
 "metadata": {
  "colab": {
   "provenance": []
  },
  "kernelspec": {
   "display_name": "Python 3",
   "name": "python3"
  },
  "language_info": {
   "codemirror_mode": {
    "name": "ipython",
    "version": 3
   },
   "file_extension": ".py",
   "mimetype": "text/x-python",
   "name": "python",
   "nbconvert_exporter": "python",
   "pygments_lexer": "ipython3",
   "version": "3.12.3"
  }
 },
 "nbformat": 4,
 "nbformat_minor": 0
}
